{
 "cells": [
  {
   "cell_type": "code",
   "execution_count": 1,
   "id": "f4f28d68-3eab-47f1-957f-21f0761192d1",
   "metadata": {},
   "outputs": [
    {
     "name": "stdout",
     "output_type": "stream",
     "text": [
      "Hello, Jupyter Notebook!\n"
     ]
    }
   ],
   "source": [
    "print(\"Hello, Jupyter Notebook!\")"
   ]
  },
  {
   "cell_type": "code",
   "execution_count": 15,
   "id": "bc63b009-ea2e-4ff6-bf3d-8d8c4f29e5eb",
   "metadata": {},
   "outputs": [
    {
     "name": "stdout",
     "output_type": "stream",
     "text": [
      "274877906944\n"
     ]
    }
   ],
   "source": [
    "int = 2**38\n",
    "print(int)"
   ]
  },
  {
   "cell_type": "code",
   "execution_count": 17,
   "id": "b6e1dd02",
   "metadata": {},
   "outputs": [
    {
     "name": "stdout",
     "output_type": "stream",
     "text": [
      "<html>\n",
      "<head>\n",
      "<title>Redirection</title>\n",
      "<META HTTP-EQUIV=\"Refresh\"\n",
      "      CONTENT=\"0; URL=map.html\">\n",
      "</head>\n",
      "<body>\n",
      "</body>\n",
      "</html>\n",
      "\n"
     ]
    }
   ],
   "source": [
    "import requests\n",
    "\n",
    "\n",
    "url = \"http://www.pythonchallenge.com/pc/def/274877906944.html\"\n",
    "\n",
    "\n",
    "response = requests.post(url)\n",
    "\n",
    "\n",
    "print(response.text)"
   ]
  },
  {
   "cell_type": "code",
   "execution_count": null,
   "id": "d0a9525d-7ac6-4d69-95e1-dfca81c80d39",
   "metadata": {},
   "outputs": [],
   "source": [
    "# The answer was to change the part of the url before .html to map to complete the challenge."
   ]
  }
 ],
 "metadata": {
  "kernelspec": {
   "display_name": "Python 3 (ipykernel)",
   "language": "python",
   "name": "python3"
  },
  "language_info": {
   "codemirror_mode": {
    "name": "ipython",
    "version": 3
   },
   "file_extension": ".py",
   "mimetype": "text/x-python",
   "name": "python",
   "nbconvert_exporter": "python",
   "pygments_lexer": "ipython3",
   "version": "3.11.11"
  }
 },
 "nbformat": 4,
 "nbformat_minor": 5
}
