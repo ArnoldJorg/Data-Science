{
 "cells": [
  {
   "cell_type": "code",
   "execution_count": 1,
   "metadata": {},
   "outputs": [
    {
     "name": "stdout",
     "output_type": "stream",
     "text": [
      "Trump launches cryptocurrency with price rocketingImage source, Getty ImagesAna FaguyBBC News, WashingtonPublished18 January 2025US President-elect Donald Trump has launched his own cryptocurrency, which quickly soared in value.His release of the meme coin, $Trump, comes as he prepares to take office on Monday as 47th president of the US.The venture was co-ordinated by CIC Digital LLC - an affiliate of the Trump Organization - which has previously sold Trump-branded shoes and fragrances.Meme coins are used to build popularity for a viral internet trend or movement, but they lack intrinsic value and are extremely volatile investments.By Saturday afternoon, hours after its launch, the value of the coins for $Trump reached nearly $5.5bn (Â£4.5bn), according to CoinMarketCap.com.CIC Digital LLC and Fight Fight Fight LLC, a company formed in Delaware earlier this month, own 80% of the tokens. It is unclear how much money Trump might make from the venture.\"My NEW Official Trump Meme is HERE! It's time to celebrate everything we stand for: WINNING!\" Trump wrote on his social media platform Truth Social as he announced the meme coin on Friday night.Image caption, An image for the Trump coin on its websiteSome 200m of the digital tokens have been issued and another 800m will be released in the next three years, the coin's website said.\"This Trump Meme celebrates a leader who doesn't back down, no matter the odds,\" the website said.Thousands protest in Washington against TrumpIt included a disclaimer noting the coin is \"not intended to be, or the subject of\" an investment opportunity or a security and was \"not political and has nothing to do with\" any political campaign, political office or government agency.Critics accused Trump of cashing in on the presidency.\"Trump owning 80 percent and timing launch hours before inauguration is predatory and many will likely get hurt by it,\" Nick Tomaino, a crypto venture capitalist, said in a social media post.Such digital tokens are notorious for speculators using hype to pump up the value before selling at the top of the market, leaving latecomers to count their losses as the price crashes.Cryptocurrency investors are hoping the Trump administration will boost the industry.President Joe Biden's regulators cited concerns about fraud and money laundering as they cracked down on crypto companies by suing exchanges.Trump was previously skittish about cryptocurrency, but at a Bitcoin conference in Nashville last year he said America would be \"the crypto capital of the planet\" once he returned to Washington.His sons Erik and Donald Jr announced their own crypto venture last year.Related topicsBitcoin\n"
     ]
    }
   ],
   "source": [
    "import requests\n",
    "from bs4 import BeautifulSoup\n",
    "\n",
    "url = \"https://www.bbc.co.uk/news/articles/c9vmym2jvy9o\"\n",
    "response = requests.get(url)\n",
    "\n",
    "bs_html = BeautifulSoup(response.text, \"html.parser\")\n",
    "\n",
    "article = bs_html.find(\"article\", {\"class\": \"ssrcss-15tkd6i-ArticleWrapper e1nh2i2l3\"})\n",
    "\n",
    "article_text = article.get_text()\n",
    "\n",
    "print(article_text)\n"
   ]
  }
 ],
 "metadata": {
  "kernelspec": {
   "display_name": "Python 3 (ipykernel)",
   "language": "python",
   "name": "python3"
  },
  "language_info": {
   "codemirror_mode": {
    "name": "ipython",
    "version": 3
   },
   "file_extension": ".py",
   "mimetype": "text/x-python",
   "name": "python",
   "nbconvert_exporter": "python",
   "pygments_lexer": "ipython3",
   "version": "3.11.11"
  }
 },
 "nbformat": 4,
 "nbformat_minor": 2
}
