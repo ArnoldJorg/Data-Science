{
 "cells": [
  {
   "cell_type": "code",
   "execution_count": 2,
   "metadata": {},
   "outputs": [
    {
     "name": "stdout",
     "output_type": "stream",
     "text": [
      "this is the data [['Bitcoin', 96310, 1909876540538, 38050657743], ['Ethereum', 2714.01, 327288377558, 20349381388], ['BNB', 658.0, 95987257053, 1210858362], ['XRP', 2.6, 150690512495, 4515871401], ['Solana', 171.35, 83759105473, 5559826294]]\n",
      "       Name  Price (USD)     Market Cap   24h Volume\n",
      "0   Bitcoin     96310.00  1909876540538  38050657743\n",
      "1  Ethereum      2714.01   327288377558  20349381388\n",
      "2       BNB       658.00    95987257053   1210858362\n",
      "3       XRP         2.60   150690512495   4515871401\n",
      "4    Solana       171.35    83759105473   5559826294\n"
     ]
    }
   ],
   "source": [
    "import time\n",
    "\n",
    "import matplotlib.pyplot as plt\n",
    "import pandas as pd\n",
    "import requests\n",
    "\n",
    "coins = [\"bitcoin\", \"ethereum\", \"binancecoin\", \"ripple\", \"solana\"]\n",
    "\n",
    "base_url = \"https://api.coingecko.com/api/v3/coins/\"\n",
    "\n",
    "crypto_data = []\n",
    "\n",
    "for coin in coins:\n",
    "    url = f\"{base_url}{coin}\"\n",
    "    response = requests.get(url)\n",
    "\n",
    "    if response.status_code == 200:\n",
    "        data = response.json()\n",
    "        name = data[\"name\"]\n",
    "        price = data[\"market_data\"][\"current_price\"][\"usd\"]\n",
    "        market_cap = data[\"market_data\"][\"market_cap\"][\"usd\"]\n",
    "        volume = data[\"market_data\"][\"total_volume\"][\"usd\"]\n",
    "\n",
    "        crypto_data.append([name, price, market_cap, volume])\n",
    "    else:\n",
    "        print(f\"Error fetching data for {coin}\")\n",
    "\n",
    "    # found a waiting library because I realised it takes about half a second for some of the prices to be fetched sometimes\n",
    "    # set to 1 second\n",
    "    time.sleep(1)\n",
    "\n",
    "print(\"this is the data\", crypto_data)\n",
    "\n",
    "df = pd.DataFrame(\n",
    "    crypto_data, columns=[\"Name\", \"Price (USD)\", \"Market Cap\", \"24h Volume\"]\n",
    ")\n",
    "\n",
    "print(df)\n",
    "\n",
    "df.to_csv(\"coins_currency_data.csv\", encoding=\"utf-8\")\n"
   ]
  },
  {
   "cell_type": "code",
   "execution_count": null,
   "metadata": {},
   "outputs": [],
   "source": []
  }
 ],
 "metadata": {
  "kernelspec": {
   "display_name": "Python 3 (ipykernel)",
   "language": "python",
   "name": "python3"
  },
  "language_info": {
   "codemirror_mode": {
    "name": "ipython",
    "version": 3
   },
   "file_extension": ".py",
   "mimetype": "text/x-python",
   "name": "python",
   "nbconvert_exporter": "python",
   "pygments_lexer": "ipython3",
   "version": "3.11.11"
  }
 },
 "nbformat": 4,
 "nbformat_minor": 2
}
